{
 "cells": [
  {
   "cell_type": "code",
   "execution_count": 95,
   "metadata": {},
   "outputs": [],
   "source": [
    "# import libraries\n",
    "import sympy as sym\n",
    "from IPython.display import display, Math"
   ]
  },
  {
   "cell_type": "code",
   "execution_count": 96,
   "metadata": {},
   "outputs": [
    {
     "data": {
      "text/latex": [
       "$\\displaystyle f(x):$"
      ],
      "text/plain": [
       "<IPython.core.display.Math object>"
      ]
     },
     "metadata": {},
     "output_type": "display_data"
    },
    {
     "data": {
      "image/png": "[encoded data removed]",
      "text/latex": [
       "$\\displaystyle 5 x^{3} - 20 x + 2$"
      ],
      "text/plain": [
       "   3           \n",
       "5⋅x  - 20⋅x + 2"
      ]
     },
     "metadata": {},
     "output_type": "display_data"
    },
    {
     "data": {
      "text/latex": [
       "$\\displaystyle f'(x):$"
      ],
      "text/plain": [
       "<IPython.core.display.Math object>"
      ]
     },
     "metadata": {},
     "output_type": "display_data"
    },
    {
     "data": {
      "image/png": "[encoded data removed]",
      "text/latex": [
       "$\\displaystyle 15 x^{2} - 20$"
      ],
      "text/plain": [
       "    2     \n",
       "15⋅x  - 20"
      ]
     },
     "metadata": {},
     "output_type": "display_data"
    }
   ],
   "source": [
    "x_symbol = sym.symbols(\"x\")\n",
    "\n",
    "# the function\n",
    "func = 5 * x_symbol**3 - 20 * x_symbol + 2\n",
    "display(Math(\"f(x):\"), func)\n",
    "\n",
    "# get derivative of the function\n",
    "deriv = sym.Derivative(func, x_symbol).doit()\n",
    "display(Math(\"f\\'(x):\"), deriv)\n",
    "deriv = sym.lambdify(x_symbol, deriv, \"math\")"
   ]
  },
  {
   "cell_type": "code",
   "execution_count": 97,
   "metadata": {},
   "outputs": [],
   "source": [
    "# max number of iterations that can be done\n",
    "MAX_ITER = 1000\n",
    "\n",
    "# learning rate\n",
    "LEARNING_RATE = 0.01\n",
    "\n",
    "# initialize current interation and previous step size\n",
    "cur_iter = 0\n",
    "prev_step_size = 0.5\n",
    "\n",
    "# initialize the value of x\n",
    "cur_x = 0.1"
   ]
  },
  {
   "cell_type": "code",
   "execution_count": 98,
   "metadata": {},
   "outputs": [
    {
     "name": "stdout",
     "output_type": "stream",
     "text": [
      "The global minima found at 1.1547005383792512\n"
     ]
    }
   ],
   "source": [
    "while cur_iter < MAX_ITER:\n",
    "    prev_x = cur_x\n",
    "    cur_x = cur_x - LEARNING_RATE * deriv(prev_x)\n",
    "    prev_step_size = abs(cur_x - prev_x)\n",
    "    cur_iter += 1\n",
    "    \n",
    "print(f\"The global minima found at {cur_x}\")"
   ]
  }
 ],
 "metadata": {
  "interpreter": {
   "hash": "2be5faf79681da6f2a61fdfdd5405d65d042280f7fba6178067603e3a2925119"
  },
  "kernelspec": {
   "display_name": "Python 3.10.2 64-bit",
   "language": "python",
   "name": "python3"
  },
  "language_info": {
   "codemirror_mode": {
    "name": "ipython",
    "version": 3
   },
   "file_extension": ".py",
   "mimetype": "text/x-python",
   "name": "python",
   "nbconvert_exporter": "python",
   "pygments_lexer": "ipython3",
   "version": "3.10.2"
  },
  "orig_nbformat": 4
 },
 "nbformat": 4,
 "nbformat_minor": 2
}

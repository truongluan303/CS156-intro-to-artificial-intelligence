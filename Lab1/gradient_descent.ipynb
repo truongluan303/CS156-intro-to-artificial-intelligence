{
 "cells": [
  {
   "cell_type": "markdown",
   "metadata": {},
   "source": [
    "# Gradient Descent"
   ]
  },
  {
   "cell_type": "markdown",
   "metadata": {},
   "source": [
    "#### Load Libraries"
   ]
  },
  {
   "cell_type": "code",
   "execution_count": 6,
   "metadata": {},
   "outputs": [],
   "source": [
    "try:\n",
    "    # check if the required libraries are installed\n",
    "    import sympy\n",
    "    import IPython\n",
    "    import matplotlib\n",
    "except:\n",
    "    # install the required libraries if thy are not yet installed\n",
    "    import subprocess\n",
    "    from sys import executable as exe\n",
    "    subprocess.check_call([exe, \"-m\", \"pip\", \"install\", \"sympy\", \"ipython\", \"matplotlib\"])\n",
    "finally:\n",
    "    # import as shorter name\n",
    "    import sympy as sym\n",
    "    from IPython.display import display, Math\n",
    "    import matplotlib.pyplot as plt"
   ]
  },
  {
   "cell_type": "markdown",
   "metadata": {},
   "source": [
    "#### Define The Function & Find Its Derivative"
   ]
  },
  {
   "cell_type": "code",
   "execution_count": 7,
   "metadata": {},
   "outputs": [
    {
     "data": {
      "text/latex": [
       "$\\displaystyle f(x):$"
      ],
      "text/plain": [
       "<IPython.core.display.Math object>"
      ]
     },
     "metadata": {},
     "output_type": "display_data"
    },
    {
     "data": {
      "text/latex": [
       "$\\displaystyle 5 x^{3} - 20 x + 2$"
      ],
      "text/plain": [
       "5*x**3 - 20*x + 2"
      ]
     },
     "metadata": {},
     "output_type": "display_data"
    },
    {
     "data": {
      "text/latex": [
       "$\\displaystyle f'(x):$"
      ],
      "text/plain": [
       "<IPython.core.display.Math object>"
      ]
     },
     "metadata": {},
     "output_type": "display_data"
    },
    {
     "data": {
      "text/latex": [
       "$\\displaystyle 15 x^{2} - 20$"
      ],
      "text/plain": [
       "15*x**2 - 20"
      ]
     },
     "metadata": {},
     "output_type": "display_data"
    }
   ],
   "source": [
    "import sympy as sym\n",
    "from IPython.display import display, Math\n",
    "\n",
    "fx = \"5 * x**3 - 20 * x + 2\"                    # string version of the function\n",
    "\n",
    "x_symbol = sym.symbols(\"x\")\n",
    "\n",
    "func = sym.sympify(fx, locals={\"x\": x_symbol})  # parse the string function\n",
    "\n",
    "display(Math(\"f(x):\"), func)                    # display the function\n",
    "\n",
    "deriv = sym.Derivative(func, x_symbol).doit()   # get the derivative of fx\n",
    "display(Math(\"f\\'(x):\"), deriv)                 # display the derivative\n",
    "deriv = sym.lambdify(x_symbol, deriv, \"math\")   # turn into lambda"
   ]
  },
  {
   "cell_type": "markdown",
   "metadata": {},
   "source": [
    "#### Define The Variables and Constants Needed"
   ]
  },
  {
   "cell_type": "code",
   "execution_count": 8,
   "metadata": {},
   "outputs": [],
   "source": [
    "# max number of iterations that can be done\n",
    "MAX_ITER = 1000\n",
    "\n",
    "# learning rate\n",
    "LEARNING_RATE = 0.01\n",
    "\n",
    "# initialize current interation and previous step size\n",
    "cur_iter = 0\n",
    "prev_step_size = 0.5\n",
    "\n",
    "# initialize the value of x\n",
    "cur_x = 0.1"
   ]
  },
  {
   "cell_type": "code",
   "execution_count": 9,
   "metadata": {},
   "outputs": [
    {
     "name": "stdout",
     "output_type": "stream",
     "text": [
      "The global minima is y=-13.396, which is found at x=1.155\n"
     ]
    }
   ],
   "source": [
    "while cur_iter < MAX_ITER:\n",
    "    prev_x = cur_x\n",
    "    cur_x = cur_x - LEARNING_RATE * deriv(prev_x)\n",
    "    prev_step_size = abs(cur_x - prev_x)\n",
    "    cur_iter += 1\n",
    "\n",
    "glob_min = func.subs(x_symbol, cur_x)\n",
    "\n",
    "print(f\"The global minima is y={glob_min:.3f}, which is found at x={cur_x:.3f}\")"
   ]
  },
  {
   "cell_type": "markdown",
   "metadata": {},
   "source": [
    "#### Plot the Function and Show Global Minima"
   ]
  },
  {
   "cell_type": "code",
   "execution_count": 10,
   "metadata": {},
   "outputs": [
    {
     "data": {
      "image/png": "[encoded data removed]",
      "text/plain": [
       "<Figure size 432x288 with 1 Axes>"
      ]
     },
     "metadata": {
      "needs_background": "light"
     },
     "output_type": "display_data"
    }
   ],
   "source": [
    "x_coor = list()\n",
    "y_coor = list()\n",
    "RANGE = 3\n",
    "\n",
    "i = cur_x - RANGE\n",
    "for _ in range(RANGE * 2 * 10):\n",
    "    x_coor.append(i)\n",
    "    y_coor.append(func.subs(x_symbol, i))\n",
    "    i += 0.1\n",
    "    \n",
    "plt.plot(x_coor, y_coor)                        # plot the function\n",
    "plt.scatter([cur_x], [glob_min])                # plot the point of global minima\n",
    "plt.annotate(f\"({cur_x:.3f}, {glob_min:.3f})\",  # add coordinate text next to the point\n",
    "             (cur_x, glob_min))\n",
    "plt.grid()                                      # add grid behind the graph\n",
    "plt.show()"
   ]
  }
 ],
 "metadata": {
  "interpreter": {
   "hash": "2be5faf79681da6f2a61fdfdd5405d65d042280f7fba6178067603e3a2925119"
  },
  "kernelspec": {
   "display_name": "Python 3.10.2 64-bit",
   "language": "python",
   "name": "python3"
  },
  "language_info": {
   "codemirror_mode": {
    "name": "ipython",
    "version": 3
   },
   "file_extension": ".py",
   "mimetype": "text/x-python",
   "name": "python",
   "nbconvert_exporter": "python",
   "pygments_lexer": "ipython3",
   "version": "3.8.10"
  },
  "orig_nbformat": 4
 },
 "nbformat": 4,
 "nbformat_minor": 2
}

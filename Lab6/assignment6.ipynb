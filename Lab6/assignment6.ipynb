{
 "cells": [
  {
   "cell_type": "code",
   "execution_count": 1,
   "metadata": {},
   "outputs": [],
   "source": [
    "libs = ['numpy', 'matplotlib', 'sklearn']\n",
    "\n",
    "try:\n",
    "    for lib in libs:\n",
    "        __import__(lib)\n",
    "except ImportError:\n",
    "    from subprocess import check_call\n",
    "    from sys import executable\n",
    "    check_call([executable, '-m', 'pip', 'install'] + libs)\n",
    "    del check_call\n",
    "    del executable\n",
    "\n",
    "import numpy as np\n",
    "import matplotlib.pyplot as plt\n",
    "from sklearn.datasets import load_digits\n",
    "from sklearn.linear_model import Perceptron\n",
    "from sklearn.metrics import plot_confusion_matrix\n",
    "from sklearn.model_selection import train_test_split"
   ]
  },
  {
   "cell_type": "code",
   "execution_count": 2,
   "metadata": {},
   "outputs": [],
   "source": [
    "np.random.seed(42)"
   ]
  },
  {
   "cell_type": "code",
   "execution_count": 3,
   "metadata": {},
   "outputs": [
    {
     "data": {
      "text/plain": [
       "((1797, 64), (1797,))"
      ]
     },
     "execution_count": 3,
     "metadata": {},
     "output_type": "execute_result"
    }
   ],
   "source": [
    "digits = load_digits()\n",
    "X = digits.data\n",
    "Y = digits.target\n",
    "X.shape, Y.shape"
   ]
  },
  {
   "cell_type": "code",
   "execution_count": 4,
   "metadata": {},
   "outputs": [
    {
     "data": {
      "text/plain": [
       "array([[ 0.,  0.,  5., ...,  0.,  0.,  0.],\n",
       "       [ 0.,  0.,  0., ..., 10.,  0.,  0.],\n",
       "       [ 0.,  0.,  0., ..., 16.,  9.,  0.],\n",
       "       ...,\n",
       "       [ 0.,  0.,  1., ...,  6.,  0.,  0.],\n",
       "       [ 0.,  0.,  2., ..., 12.,  0.,  0.],\n",
       "       [ 0.,  0., 10., ..., 12.,  1.,  0.]])"
      ]
     },
     "execution_count": 4,
     "metadata": {},
     "output_type": "execute_result"
    }
   ],
   "source": [
    "digits.images.reshape(digits.images.shape[0], -1)"
   ]
  },
  {
   "cell_type": "code",
   "execution_count": null,
   "metadata": {},
   "outputs": [],
   "source": [
    "X = X.astype(\"float32\")/255\n",
    "Y = Y.astype(\"float32\")\n",
    "model = Perceptron(tol=1e-3, random_state=0)"
   ]
  },
  {
   "cell_type": "code",
   "execution_count": 5,
   "metadata": {},
   "outputs": [
    {
     "ename": "NameError",
     "evalue": "name 'model' is not defined",
     "output_type": "error",
     "traceback": [
      "\u001b[0;31m---------------------------------------------------------------------------\u001b[0m",
      "\u001b[0;31mNameError\u001b[0m                                 Traceback (most recent call last)",
      "\u001b[1;32m/Users/luantruong/Desktop/CS156---Intro-to-Artificial-Intelligence/Lab6/assignment6.ipynb Cell 6'\u001b[0m in \u001b[0;36m<cell line: 1>\u001b[0;34m()\u001b[0m\n\u001b[1;32m      <a href='vscode-notebook-cell:/Users/luantruong/Desktop/CS156---Intro-to-Artificial-Intelligence/Lab6/assignment6.ipynb#ch0000005?line=3'>4</a>\u001b[0m \u001b[39m# Split into training set and test set\u001b[39;00m\n\u001b[1;32m      <a href='vscode-notebook-cell:/Users/luantruong/Desktop/CS156---Intro-to-Artificial-Intelligence/Lab6/assignment6.ipynb#ch0000005?line=4'>5</a>\u001b[0m X_train, X_test, Y_train, Y_test \u001b[39m=\u001b[39m train_test_split(X, Y_new, test_size\u001b[39m=\u001b[39m\u001b[39m0.2\u001b[39m)\n\u001b[0;32m----> <a href='vscode-notebook-cell:/Users/luantruong/Desktop/CS156---Intro-to-Artificial-Intelligence/Lab6/assignment6.ipynb#ch0000005?line=5'>6</a>\u001b[0m model\u001b[39m.\u001b[39mfit(X_train, Y_train)\n\u001b[1;32m      <a href='vscode-notebook-cell:/Users/luantruong/Desktop/CS156---Intro-to-Artificial-Intelligence/Lab6/assignment6.ipynb#ch0000005?line=6'>7</a>\u001b[0m score \u001b[39m=\u001b[39m model\u001b[39m.\u001b[39mscore(X_test, Y_test)\n\u001b[1;32m      <a href='vscode-notebook-cell:/Users/luantruong/Desktop/CS156---Intro-to-Artificial-Intelligence/Lab6/assignment6.ipynb#ch0000005?line=7'>8</a>\u001b[0m \u001b[39mprint\u001b[39m(\u001b[39m'\u001b[39m\u001b[39mAccuracy: \u001b[39m\u001b[39m{:.2f}\u001b[39;00m\u001b[39m'\u001b[39m\u001b[39m.\u001b[39mformat(score))\n",
      "\u001b[0;31mNameError\u001b[0m: name 'model' is not defined"
     ]
    }
   ],
   "source": [
    "for i in range(10):\n",
    "    Y_new = (Y == i).astype(\"int\")\n",
    "\n",
    "    # Split into training set and test set\n",
    "    X_train, X_test, Y_train, Y_test = train_test_split(X, Y_new, test_size=0.2)\n",
    "    model.fit(X_train, Y_train)\n",
    "    score = model.score(X_test, Y_test)\n",
    "    print('Accuracy: {:.2f}'.format(score))\n",
    "    \n",
    "    # Plot non-normalized confusion matrix\n",
    "    np.set_printoptions(precision=2)\n",
    "    titles_options = [('Test results for %d (%.2f)' % (i, score), None)]\n",
    "    for t, n in titles_options:\n",
    "        disp = plot_confusion_matrix(model, X_test, Y_test, cmap=plt.cm.Greens)\n",
    "        disp.ax_.set_title(t)\n",
    "        print(t)"
   ]
  },
  {
   "cell_type": "code",
   "execution_count": null,
   "metadata": {},
   "outputs": [],
   "source": []
  }
 ],
 "metadata": {
  "interpreter": {
   "hash": "31f2aee4e71d21fbe5cf8b01ff0e069b9275f58929596ceb00d14d90e3e16cd6"
  },
  "kernelspec": {
   "display_name": "Python 3.8.9 64-bit",
   "language": "python",
   "name": "python3"
  },
  "language_info": {
   "codemirror_mode": {
    "name": "ipython",
    "version": 3
   },
   "file_extension": ".py",
   "mimetype": "text/x-python",
   "name": "python",
   "nbconvert_exporter": "python",
   "pygments_lexer": "ipython3",
   "version": "3.8.9"
  },
  "orig_nbformat": 4
 },
 "nbformat": 4,
 "nbformat_minor": 2
}

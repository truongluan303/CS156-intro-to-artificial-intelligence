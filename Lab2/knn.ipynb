{
 "cells": [
  {
   "cell_type": "markdown",
   "metadata": {},
   "source": [
    "# KNN Function Implementation"
   ]
  },
  {
   "cell_type": "markdown",
   "metadata": {},
   "source": [
    "### Import the Libraries Needed"
   ]
  },
  {
   "cell_type": "code",
   "execution_count": 1,
   "metadata": {},
   "outputs": [],
   "source": [
    "try:\n",
    "    # try import the required libraries\n",
    "    import matplotlib\n",
    "    import pandas\n",
    "    import numpy\n",
    "    import sklearn\n",
    "except:\n",
    "    # install the required libraries if import fails\n",
    "    import subprocess\n",
    "    from sys import executable as exe\n",
    "    subprocess.check_call([\n",
    "        exe, \"-m\", \"pip\", \"install\", \"matplotlib\", \n",
    "        \"pandas\", \"numpy\", \"sklearn\"\n",
    "    ])\n",
    "finally:\n",
    "    # import libraries as short names\n",
    "    import matplotlib.pyplot as plt\n",
    "    import pandas as pd\n",
    "    import numpy as np\n",
    "    from sklearn.model_selection import train_test_split"
   ]
  },
  {
   "cell_type": "code",
   "execution_count": 2,
   "metadata": {},
   "outputs": [],
   "source": [
    "np.random.seed(42)"
   ]
  },
  {
   "cell_type": "markdown",
   "metadata": {},
   "source": [
    "### 2D Data"
   ]
  },
  {
   "cell_type": "code",
   "execution_count": 3,
   "metadata": {},
   "outputs": [
    {
     "name": "stdout",
     "output_type": "stream",
     "text": [
      "[0, 0, 0, 0, 0, 0, 0, 0, 0, 0, 0, 0, 0, 0, 0, 0, 0, 0, 0, 0, 0, 0, 0, 0, 0, 0, 0, 0, 0, 0, 0, 0, 0, 0, 0, 0, 0, 0, 0, 0, 0, 0, 0, 0, 0, 0, 0, 0, 0, 0, 1, 1, 1, 1, 1, 1, 1, 1, 1, 1, 1, 1, 1, 1, 1, 1, 1, 1, 1, 1, 1, 1, 1, 1, 1, 1, 1, 1, 1, 1, 1, 1, 1, 1, 1, 1, 1, 1, 1, 1, 1, 1, 1, 1, 1, 1, 1, 1, 1, 1]\n"
     ]
    },
    {
     "data": {
      "text/html": [
       "<div>\n",
       "<style scoped>\n",
       "    .dataframe tbody tr th:only-of-type {\n",
       "        vertical-align: middle;\n",
       "    }\n",
       "\n",
       "    .dataframe tbody tr th {\n",
       "        vertical-align: top;\n",
       "    }\n",
       "\n",
       "    .dataframe thead th {\n",
       "        text-align: right;\n",
       "    }\n",
       "</style>\n",
       "<table border=\"1\" class=\"dataframe\">\n",
       "  <thead>\n",
       "    <tr style=\"text-align: right;\">\n",
       "      <th></th>\n",
       "      <th>x</th>\n",
       "      <th>y</th>\n",
       "      <th>class</th>\n",
       "    </tr>\n",
       "  </thead>\n",
       "  <tbody>\n",
       "    <tr>\n",
       "      <th>0</th>\n",
       "      <td>-1.006572</td>\n",
       "      <td>0.324084</td>\n",
       "      <td>0</td>\n",
       "    </tr>\n",
       "    <tr>\n",
       "      <th>1</th>\n",
       "      <td>-2.276529</td>\n",
       "      <td>-0.385082</td>\n",
       "      <td>0</td>\n",
       "    </tr>\n",
       "    <tr>\n",
       "      <th>2</th>\n",
       "      <td>-0.704623</td>\n",
       "      <td>-0.676922</td>\n",
       "      <td>0</td>\n",
       "    </tr>\n",
       "    <tr>\n",
       "      <th>3</th>\n",
       "      <td>1.046060</td>\n",
       "      <td>0.611676</td>\n",
       "      <td>0</td>\n",
       "    </tr>\n",
       "    <tr>\n",
       "      <th>4</th>\n",
       "      <td>-2.468307</td>\n",
       "      <td>1.031000</td>\n",
       "      <td>0</td>\n",
       "    </tr>\n",
       "  </tbody>\n",
       "</table>\n",
       "</div>"
      ],
      "text/plain": [
       "          x         y  class\n",
       "0 -1.006572  0.324084      0\n",
       "1 -2.276529 -0.385082      0\n",
       "2 -0.704623 -0.676922      0\n",
       "3  1.046060  0.611676      0\n",
       "4 -2.468307  1.031000      0"
      ]
     },
     "execution_count": 3,
     "metadata": {},
     "output_type": "execute_result"
    }
   ],
   "source": [
    "n = 100\n",
    "\n",
    "x1 = np.random.normal(loc=-2.0, scale=2.0, size=n//2)\n",
    "x2 = np.random.normal(loc=0.0, scale=1.0, size=n//2)\n",
    "\n",
    "y1 = np.random.normal(loc=2.0, scale=2.0, size=n//2)\n",
    "y2 = np.random.normal(loc=0.0, scale=1.0, size=n//2)\n",
    "\n",
    "x = np.concatenate((x1, y1), axis=0)\n",
    "y = np.concatenate((x2, y2), axis=0)\n",
    "\n",
    "l1 = [0] * (n // 2)\n",
    "l2 = [1] * (n // 2)\n",
    "labels = l1 + l2\n",
    "\n",
    "print(labels)\n",
    "\n",
    "data2d = pd.DataFrame(\n",
    "    {'x': x, 'y': y, 'class': labels},\n",
    "    columns=['x', 'y', 'class']\n",
    ")\n",
    "data2d.head()"
   ]
  },
  {
   "cell_type": "code",
   "execution_count": 4,
   "metadata": {},
   "outputs": [],
   "source": [
    "train_x2d, test_x2d, train_y2d, test_y2d = train_test_split(\n",
    "    data2d, labels, test_size=0.2, random_state=0\n",
    ")"
   ]
  },
  {
   "cell_type": "markdown",
   "metadata": {},
   "source": [
    "### 3D Data"
   ]
  },
  {
   "cell_type": "code",
   "execution_count": 5,
   "metadata": {},
   "outputs": [
    {
     "name": "stdout",
     "output_type": "stream",
     "text": [
      "[0, 0, 0, 0, 0, 0, 0, 0, 0, 0, 0, 0, 0, 0, 0, 0, 0, 0, 0, 0, 0, 0, 0, 0, 0, 0, 0, 0, 0, 0, 0, 0, 0, 0, 0, 0, 0, 0, 0, 0, 0, 0, 0, 0, 0, 0, 0, 0, 0, 0, 0, 0, 0, 0, 0, 0, 0, 0, 0, 0, 0, 0, 0, 0, 0, 0, 0, 0, 0, 0, 0, 0, 0, 0, 0, 0, 0, 0, 0, 0, 0, 0, 0, 0, 0, 0, 0, 0, 0, 0, 0, 0, 0, 0, 0, 0, 0, 0, 0, 0, 0, 0, 0, 0, 0, 0, 0, 0, 0, 0, 0, 0, 0, 0, 0, 0, 0, 0, 0, 0, 0, 0, 0, 0, 0, 0, 0, 0, 0, 0, 0, 0, 0, 0, 0, 0, 0, 0, 0, 0, 0, 0, 0, 0, 0, 0, 0, 0, 0, 0, 0, 0, 0, 0, 0, 0, 0, 0, 0, 0, 0, 0, 0, 0, 0, 0, 0, 0, 0, 0, 0, 0, 0, 0, 0, 0, 0, 0, 0, 0, 0, 0, 0, 0, 0, 0, 0, 0, 0, 0, 0, 0, 0, 0, 0, 0, 0, 0, 0, 0, 0, 0, 0, 0, 0, 0, 0, 0, 0, 0, 0, 0, 0, 0, 0, 0, 0, 0, 0, 0, 0, 0, 0, 0, 0, 0, 0, 0, 0, 0, 0, 0, 0, 0, 0, 0, 0, 0, 0, 0, 0, 0, 0, 0, 0, 0, 0, 0, 0, 0, 1, 1, 1, 1, 1, 1, 1, 1, 1, 1, 1, 1, 1, 1, 1, 1, 1, 1, 1, 1, 1, 1, 1, 1, 1, 1, 1, 1, 1, 1, 1, 1, 1, 1, 1, 1, 1, 1, 1, 1, 1, 1, 1, 1, 1, 1, 1, 1, 1, 1, 1, 1, 1, 1, 1, 1, 1, 1, 1, 1, 1, 1, 1, 1, 1, 1, 1, 1, 1, 1, 1, 1, 1, 1, 1, 1, 1, 1, 1, 1, 1, 1, 1, 1, 1, 1, 1, 1, 1, 1, 1, 1, 1, 1, 1, 1, 1, 1, 1, 1, 1, 1, 1, 1, 1, 1, 1, 1, 1, 1, 1, 1, 1, 1, 1, 1, 1, 1, 1, 1, 1, 1, 1, 1, 1, 1, 1, 1, 1, 1, 1, 1, 1, 1, 1, 1, 1, 1, 1, 1, 1, 1, 1, 1, 1, 1, 1, 1, 1, 1, 1, 1, 1, 1, 1, 1, 1, 1, 1, 1, 1, 1, 1, 1, 1, 1, 1, 1, 1, 1, 1, 1, 1, 1, 1, 1, 1, 1, 1, 1, 1, 1, 1, 1, 1, 1, 1, 1, 1, 1, 1, 1, 1, 1, 1, 1, 1, 1, 1, 1, 1, 1, 1, 1, 1, 1, 1, 1, 1, 1, 1, 1, 1, 1, 1, 1, 1, 1, 1, 1, 1, 1, 1, 1, 1, 1, 1, 1, 1, 1, 1, 1, 1, 1, 1, 1, 1, 1, 1, 1, 1, 1, 1, 1, 1, 1, 1, 1, 1, 1, 2, 2, 2, 2, 2, 2, 2, 2, 2, 2, 2, 2, 2, 2, 2, 2, 2, 2, 2, 2, 2, 2, 2, 2, 2, 2, 2, 2, 2, 2, 2, 2, 2, 2, 2, 2, 2, 2, 2, 2, 2, 2, 2, 2, 2, 2, 2, 2, 2, 2, 2, 2, 2, 2, 2, 2, 2, 2, 2, 2, 2, 2, 2, 2, 2, 2, 2, 2, 2, 2, 2, 2, 2, 2, 2, 2, 2, 2, 2, 2, 2, 2, 2, 2, 2, 2, 2, 2, 2, 2, 2, 2, 2, 2, 2, 2, 2, 2, 2, 2, 2, 2, 2, 2, 2, 2, 2, 2, 2, 2, 2, 2, 2, 2, 2, 2, 2, 2, 2, 2, 2, 2, 2, 2, 2, 2, 2, 2, 2, 2, 2, 2, 2, 2, 2, 2, 2, 2, 2, 2, 2, 2, 2, 2, 2, 2, 2, 2, 2, 2, 2, 2, 2, 2, 2, 2, 2, 2, 2, 2, 2, 2, 2, 2, 2, 2, 2, 2, 2, 2, 2, 2, 2, 2, 2, 2, 2, 2, 2, 2, 2, 2, 2, 2, 2, 2, 2, 2, 2, 2, 2, 2, 2, 2, 2, 2, 2, 2, 2, 2, 2, 2, 2, 2, 2, 2, 2, 2, 2, 2, 2, 2, 2, 2, 2, 2, 2, 2, 2, 2, 2, 2, 2, 2, 2, 2, 2, 2, 2, 2, 2, 2, 2, 2, 2, 2, 2, 2, 2, 2, 2, 2, 2, 2, 2, 2, 2, 2, 2, 2, 3, 3, 3, 3, 3, 3, 3, 3, 3, 3, 3, 3, 3, 3, 3, 3, 3, 3, 3, 3, 3, 3, 3, 3, 3, 3, 3, 3, 3, 3, 3, 3, 3, 3, 3, 3, 3, 3, 3, 3, 3, 3, 3, 3, 3, 3, 3, 3, 3, 3, 3, 3, 3, 3, 3, 3, 3, 3, 3, 3, 3, 3, 3, 3, 3, 3, 3, 3, 3, 3, 3, 3, 3, 3, 3, 3, 3, 3, 3, 3, 3, 3, 3, 3, 3, 3, 3, 3, 3, 3, 3, 3, 3, 3, 3, 3, 3, 3, 3, 3, 3, 3, 3, 3, 3, 3, 3, 3, 3, 3, 3, 3, 3, 3, 3, 3, 3, 3, 3, 3, 3, 3, 3, 3, 3, 3, 3, 3, 3, 3, 3, 3, 3, 3, 3, 3, 3, 3, 3, 3, 3, 3, 3, 3, 3, 3, 3, 3, 3, 3, 3, 3, 3, 3, 3, 3, 3, 3, 3, 3, 3, 3, 3, 3, 3, 3, 3, 3, 3, 3, 3, 3, 3, 3, 3, 3, 3, 3, 3, 3, 3, 3, 3, 3, 3, 3, 3, 3, 3, 3, 3, 3, 3, 3, 3, 3, 3, 3, 3, 3, 3, 3, 3, 3, 3, 3, 3, 3, 3, 3, 3, 3, 3, 3, 3, 3, 3, 3, 3, 3, 3, 3, 3, 3, 3, 3, 3, 3, 3, 3, 3, 3, 3, 3, 3, 3, 3, 3, 3, 3, 3, 3, 3, 3, 3, 3, 3, 3, 3, 3]\n"
     ]
    },
    {
     "data": {
      "text/html": [
       "<div>\n",
       "<style scoped>\n",
       "    .dataframe tbody tr th:only-of-type {\n",
       "        vertical-align: middle;\n",
       "    }\n",
       "\n",
       "    .dataframe tbody tr th {\n",
       "        vertical-align: top;\n",
       "    }\n",
       "\n",
       "    .dataframe thead th {\n",
       "        text-align: right;\n",
       "    }\n",
       "</style>\n",
       "<table border=\"1\" class=\"dataframe\">\n",
       "  <thead>\n",
       "    <tr style=\"text-align: right;\">\n",
       "      <th></th>\n",
       "      <th>x</th>\n",
       "      <th>y</th>\n",
       "      <th>z</th>\n",
       "      <th>class</th>\n",
       "    </tr>\n",
       "  </thead>\n",
       "  <tbody>\n",
       "    <tr>\n",
       "      <th>0</th>\n",
       "      <td>1.073362</td>\n",
       "      <td>2.937321</td>\n",
       "      <td>-1.522723</td>\n",
       "      <td>0</td>\n",
       "    </tr>\n",
       "    <tr>\n",
       "      <th>1</th>\n",
       "      <td>1.682354</td>\n",
       "      <td>3.955142</td>\n",
       "      <td>0.049009</td>\n",
       "      <td>0</td>\n",
       "    </tr>\n",
       "    <tr>\n",
       "      <th>2</th>\n",
       "      <td>3.249154</td>\n",
       "      <td>2.014274</td>\n",
       "      <td>-1.704344</td>\n",
       "      <td>0</td>\n",
       "    </tr>\n",
       "    <tr>\n",
       "      <th>3</th>\n",
       "      <td>3.161406</td>\n",
       "      <td>3.504047</td>\n",
       "      <td>-2.408461</td>\n",
       "      <td>0</td>\n",
       "    </tr>\n",
       "    <tr>\n",
       "      <th>4</th>\n",
       "      <td>-4.133008</td>\n",
       "      <td>2.469742</td>\n",
       "      <td>-2.556629</td>\n",
       "      <td>0</td>\n",
       "    </tr>\n",
       "  </tbody>\n",
       "</table>\n",
       "</div>"
      ],
      "text/plain": [
       "          x         y         z  class\n",
       "0  1.073362  2.937321 -1.522723      0\n",
       "1  1.682354  3.955142  0.049009      0\n",
       "2  3.249154  2.014274 -1.704344      0\n",
       "3  3.161406  3.504047 -2.408461      0\n",
       "4 -4.133008  2.469742 -2.556629      0"
      ]
     },
     "execution_count": 5,
     "metadata": {},
     "output_type": "execute_result"
    }
   ],
   "source": [
    "n = 1000\n",
    "\n",
    "x1 = np.random.normal(loc=0.0, scale=3.0, size=n//4)\n",
    "x2 = np.random.normal(loc=3.0, scale=1.0, size=n//4)\n",
    "x3 = np.random.normal(loc=-1.0, scale=1.0, size=n//4)\n",
    "\n",
    "y1 = np.random.normal(loc=0.0, scale=3.0, size=n//4)\n",
    "y2 = np.random.normal(loc=1.0, scale=2.0, size=n//4)\n",
    "y3 = np.random.normal(loc=1.0, scale=1.0, size=n//4)\n",
    "\n",
    "z1 = np.random.normal(loc=0.0, scale=3.0, size=n//4)\n",
    "z2 = np.random.normal(loc=3.0, scale=1.0, size=n//4)\n",
    "z3 = np.random.normal(loc=4.0, scale=1.0, size=n//4)\n",
    "\n",
    "w1 = np.random.normal(loc=0.0, scale=3.0, size=n//4)\n",
    "w2 = np.random.normal(loc=5.0, scale=4.0, size=n//4)\n",
    "w3 = np.random.normal(loc=-3.0, scale=1.0, size=n//4)\n",
    "\n",
    "x = np.concatenate((x1, y1, z1, w1), axis=0)\n",
    "y = np.concatenate((x2, y2, z2, w2), axis=0)\n",
    "z = np.concatenate((x3, y3, z3, w3), axis=0)\n",
    "\n",
    "l1 = [0] * (n // 4)\n",
    "l2 = [1] * (n // 4)\n",
    "l3 = [2] * (n // 4)\n",
    "l4 = [3] * (n // 4)\n",
    "labels = l1 + l2 + l3 + l4\n",
    "print(labels)\n",
    "\n",
    "data3d = pd.DataFrame(\n",
    "    {'x': x, 'y': y, 'z': z, 'class': labels},\n",
    "    columns=['x', 'y', 'z', 'class']\n",
    ")\n",
    "data3d.head()"
   ]
  },
  {
   "cell_type": "code",
   "execution_count": 6,
   "metadata": {},
   "outputs": [],
   "source": [
    "train_x3d, test_x3d, train_y3d, test_y3d = train_test_split(\n",
    "    data3d, labels, test_size=0.2, random_state=0\n",
    ")"
   ]
  },
  {
   "cell_type": "markdown",
   "metadata": {},
   "source": [
    "### Helpers for K-Nearest Neighbors Function"
   ]
  },
  {
   "cell_type": "code",
   "execution_count": 7,
   "metadata": {},
   "outputs": [],
   "source": [
    "def calculate_euclidean_distance(a1, a2) -> float:\n",
    "    return np.sqrt(np.sum(np.square(a1 - a2)))\n",
    "\n",
    "def make_prediction(neighbors):\n",
    "    votes = dict()\n",
    "    for neigh in neighbors:\n",
    "        n = neigh[-1]\n",
    "        if n not in votes:\n",
    "            votes[n] = 0\n",
    "        votes[n] += 1\n",
    "    votes = sorted(votes.items(), key=lambda x: x[1], reverse=True)\n",
    "    return votes[0][0]"
   ]
  },
  {
   "cell_type": "markdown",
   "metadata": {},
   "source": [
    "### K-Nearest Neighbors Function (KNN):"
   ]
  },
  {
   "cell_type": "code",
   "execution_count": 8,
   "metadata": {},
   "outputs": [],
   "source": [
    "def knn(observation, ref_data, k) -> list:\n",
    "    distances = list()\n",
    "    for i in range(len(ref_data)):\n",
    "        d = calculate_euclidean_distance(observation[:-1], ref_data.iloc[i, :-1])\n",
    "        distances.append((ref_data.iloc[i], d))\n",
    "    distances.sort(key=lambda x: x[1])\n",
    "    neighbors = list()\n",
    "    for i in range(k):\n",
    "        neighbors.append(distances[i][0])\n",
    "    return neighbors"
   ]
  },
  {
   "cell_type": "markdown",
   "metadata": {},
   "source": [
    "### Function to Calculate The Accuracy of The Prediction"
   ]
  },
  {
   "cell_type": "code",
   "execution_count": 9,
   "metadata": {},
   "outputs": [],
   "source": [
    "def calculate_accuracy(expect, prediction):\n",
    "    match = 0\n",
    "    for a, b in zip(expect, prediction):\n",
    "        if a == b:\n",
    "            match += 1\n",
    "        print(f\"Expect: {a}\\t\\tPrediction: {b}\")\n",
    "    accuracy = 100.0 * match / float(len(expect))\n",
    "    print(f\"Accuracy: {accuracy}%\")"
   ]
  },
  {
   "cell_type": "markdown",
   "metadata": {},
   "source": [
    "### Function to Test"
   ]
  },
  {
   "cell_type": "code",
   "execution_count": 10,
   "metadata": {
    "pycharm": {
     "name": "#%%\n"
    }
   },
   "outputs": [],
   "source": [
    "def test(test_x, train_x, test_y, train_y):\n",
    "    predictions = list()\n",
    "    for i in range(len(test_x)):\n",
    "        neighbors = knn(test_x.iloc[i], train_x, 3)\n",
    "        prediction = make_prediction(neighbors)\n",
    "        predictions.append(prediction)\n",
    "    calculate_accuracy(test_y, predictions)\n",
    "\n",
    "    plt.subplot(1, 2, 1)\n",
    "    plt.scatter(train_x.iloc[:,0], train_x.iloc[:,1], s=25, c=train_y, marker=\".\")\n",
    "    plt.scatter(test_x.iloc[:,0], test_x.iloc[:,1], s=50, c=test_y, marker=\"v\")\n",
    "    plt.title(\"Actual labels\")\n",
    "    plt.subplot(1, 2, 2)\n",
    "    plt.scatter(train_x.iloc[:,0], train_x.iloc[:,1], s=25, c=train_y, marker=\".\")\n",
    "    plt.scatter(test_x.iloc[:,0], test_x.iloc[:,1], s=50, c=predictions, marker=\"v\")\n",
    "    plt.title(\"Predicted labels\")\n",
    "    plt.tight_layout()\n",
    "    plt.show()"
   ]
  },
  {
   "cell_type": "markdown",
   "metadata": {},
   "source": [
    "### Test on 2D Data Set"
   ]
  },
  {
   "cell_type": "code",
   "execution_count": 11,
   "metadata": {},
   "outputs": [
    {
     "name": "stdout",
     "output_type": "stream",
     "text": [
      "Running test on 2D data...\n",
      "Expect: 0\t\tPrediction: 0.0\n",
      "Expect: 1\t\tPrediction: 0.0\n",
      "Expect: 0\t\tPrediction: 0.0\n",
      "Expect: 1\t\tPrediction: 1.0\n",
      "Expect: 1\t\tPrediction: 1.0\n",
      "Expect: 1\t\tPrediction: 1.0\n",
      "Expect: 0\t\tPrediction: 0.0\n",
      "Expect: 1\t\tPrediction: 1.0\n",
      "Expect: 1\t\tPrediction: 1.0\n",
      "Expect: 1\t\tPrediction: 1.0\n",
      "Expect: 1\t\tPrediction: 1.0\n",
      "Expect: 1\t\tPrediction: 0.0\n",
      "Expect: 1\t\tPrediction: 1.0\n",
      "Expect: 0\t\tPrediction: 0.0\n",
      "Expect: 0\t\tPrediction: 0.0\n",
      "Expect: 0\t\tPrediction: 0.0\n",
      "Expect: 0\t\tPrediction: 0.0\n",
      "Expect: 0\t\tPrediction: 0.0\n",
      "Expect: 0\t\tPrediction: 0.0\n",
      "Expect: 0\t\tPrediction: 0.0\n",
      "Accuracy: 90.0%\n"
     ]
    },
    {
     "data": {
      "image/png": "[encoded data removed]",
      "text/plain": [
       "<Figure size 432x288 with 2 Axes>"
      ]
     },
     "metadata": {
      "needs_background": "light"
     },
     "output_type": "display_data"
    }
   ],
   "source": [
    "print(\"Running test on 2D data...\")\n",
    "test(test_x2d, train_x2d, test_y2d, train_y2d)"
   ]
  },
  {
   "cell_type": "markdown",
   "metadata": {},
   "source": [
    "### Test on 3D Data Set"
   ]
  },
  {
   "cell_type": "code",
   "execution_count": 12,
   "metadata": {
    "pycharm": {
     "name": "#%%\n"
    }
   },
   "outputs": [
    {
     "name": "stdout",
     "output_type": "stream",
     "text": [
      "Running test on 3D data...\n",
      "Expect: 3\t\tPrediction: 3.0\n",
      "Expect: 3\t\tPrediction: 3.0\n",
      "Expect: 1\t\tPrediction: 1.0\n",
      "Expect: 2\t\tPrediction: 2.0\n",
      "Expect: 2\t\tPrediction: 2.0\n",
      "Expect: 3\t\tPrediction: 3.0\n",
      "Expect: 0\t\tPrediction: 0.0\n",
      "Expect: 0\t\tPrediction: 1.0\n",
      "Expect: 1\t\tPrediction: 2.0\n",
      "Expect: 2\t\tPrediction: 2.0\n",
      "Expect: 1\t\tPrediction: 1.0\n",
      "Expect: 2\t\tPrediction: 1.0\n",
      "Expect: 3\t\tPrediction: 3.0\n",
      "Expect: 0\t\tPrediction: 0.0\n",
      "Expect: 2\t\tPrediction: 2.0\n",
      "Expect: 0\t\tPrediction: 1.0\n",
      "Expect: 3\t\tPrediction: 3.0\n",
      "Expect: 0\t\tPrediction: 0.0\n",
      "Expect: 0\t\tPrediction: 0.0\n",
      "Expect: 0\t\tPrediction: 0.0\n",
      "Expect: 0\t\tPrediction: 0.0\n",
      "Expect: 1\t\tPrediction: 0.0\n",
      "Expect: 1\t\tPrediction: 0.0\n",
      "Expect: 1\t\tPrediction: 1.0\n",
      "Expect: 3\t\tPrediction: 3.0\n",
      "Expect: 3\t\tPrediction: 3.0\n",
      "Expect: 0\t\tPrediction: 0.0\n",
      "Expect: 0\t\tPrediction: 0.0\n",
      "Expect: 3\t\tPrediction: 3.0\n",
      "Expect: 0\t\tPrediction: 0.0\n",
      "Expect: 3\t\tPrediction: 3.0\n",
      "Expect: 2\t\tPrediction: 2.0\n",
      "Expect: 2\t\tPrediction: 2.0\n",
      "Expect: 3\t\tPrediction: 3.0\n",
      "Expect: 1\t\tPrediction: 1.0\n",
      "Expect: 2\t\tPrediction: 2.0\n",
      "Expect: 3\t\tPrediction: 0.0\n",
      "Expect: 1\t\tPrediction: 1.0\n",
      "Expect: 3\t\tPrediction: 3.0\n",
      "Expect: 1\t\tPrediction: 1.0\n",
      "Expect: 0\t\tPrediction: 0.0\n",
      "Expect: 3\t\tPrediction: 0.0\n",
      "Expect: 2\t\tPrediction: 2.0\n",
      "Expect: 2\t\tPrediction: 2.0\n",
      "Expect: 1\t\tPrediction: 1.0\n",
      "Expect: 3\t\tPrediction: 3.0\n",
      "Expect: 3\t\tPrediction: 3.0\n",
      "Expect: 0\t\tPrediction: 0.0\n",
      "Expect: 1\t\tPrediction: 1.0\n",
      "Expect: 2\t\tPrediction: 2.0\n",
      "Expect: 1\t\tPrediction: 1.0\n",
      "Expect: 1\t\tPrediction: 1.0\n",
      "Expect: 1\t\tPrediction: 1.0\n",
      "Expect: 1\t\tPrediction: 0.0\n",
      "Expect: 3\t\tPrediction: 3.0\n",
      "Expect: 2\t\tPrediction: 2.0\n",
      "Expect: 1\t\tPrediction: 1.0\n",
      "Expect: 1\t\tPrediction: 1.0\n",
      "Expect: 3\t\tPrediction: 0.0\n",
      "Expect: 1\t\tPrediction: 2.0\n",
      "Expect: 2\t\tPrediction: 2.0\n",
      "Expect: 2\t\tPrediction: 2.0\n",
      "Expect: 0\t\tPrediction: 0.0\n",
      "Expect: 0\t\tPrediction: 0.0\n",
      "Expect: 1\t\tPrediction: 1.0\n",
      "Expect: 0\t\tPrediction: 3.0\n",
      "Expect: 1\t\tPrediction: 1.0\n",
      "Expect: 2\t\tPrediction: 2.0\n",
      "Expect: 1\t\tPrediction: 0.0\n",
      "Expect: 2\t\tPrediction: 2.0\n",
      "Expect: 2\t\tPrediction: 2.0\n",
      "Expect: 1\t\tPrediction: 1.0\n",
      "Expect: 2\t\tPrediction: 2.0\n",
      "Expect: 0\t\tPrediction: 0.0\n",
      "Expect: 3\t\tPrediction: 3.0\n",
      "Expect: 1\t\tPrediction: 1.0\n",
      "Expect: 1\t\tPrediction: 1.0\n",
      "Expect: 3\t\tPrediction: 3.0\n",
      "Expect: 2\t\tPrediction: 2.0\n",
      "Expect: 2\t\tPrediction: 2.0\n",
      "Expect: 1\t\tPrediction: 1.0\n",
      "Expect: 1\t\tPrediction: 1.0\n",
      "Expect: 1\t\tPrediction: 1.0\n",
      "Expect: 3\t\tPrediction: 3.0\n",
      "Expect: 3\t\tPrediction: 3.0\n",
      "Expect: 2\t\tPrediction: 2.0\n",
      "Expect: 0\t\tPrediction: 0.0\n",
      "Expect: 2\t\tPrediction: 2.0\n",
      "Expect: 1\t\tPrediction: 0.0\n",
      "Expect: 3\t\tPrediction: 3.0\n",
      "Expect: 1\t\tPrediction: 1.0\n",
      "Expect: 1\t\tPrediction: 0.0\n",
      "Expect: 3\t\tPrediction: 3.0\n",
      "Expect: 1\t\tPrediction: 0.0\n",
      "Expect: 2\t\tPrediction: 2.0\n",
      "Expect: 1\t\tPrediction: 2.0\n",
      "Expect: 2\t\tPrediction: 2.0\n",
      "Expect: 0\t\tPrediction: 1.0\n",
      "Expect: 1\t\tPrediction: 1.0\n",
      "Expect: 2\t\tPrediction: 1.0\n",
      "Expect: 3\t\tPrediction: 3.0\n",
      "Expect: 3\t\tPrediction: 1.0\n",
      "Expect: 0\t\tPrediction: 0.0\n",
      "Expect: 3\t\tPrediction: 1.0\n",
      "Expect: 1\t\tPrediction: 1.0\n",
      "Expect: 2\t\tPrediction: 2.0\n",
      "Expect: 2\t\tPrediction: 2.0\n",
      "Expect: 3\t\tPrediction: 3.0\n",
      "Expect: 3\t\tPrediction: 0.0\n",
      "Expect: 0\t\tPrediction: 0.0\n",
      "Expect: 0\t\tPrediction: 0.0\n",
      "Expect: 2\t\tPrediction: 2.0\n",
      "Expect: 1\t\tPrediction: 0.0\n",
      "Expect: 2\t\tPrediction: 2.0\n",
      "Expect: 1\t\tPrediction: 0.0\n",
      "Expect: 1\t\tPrediction: 1.0\n",
      "Expect: 2\t\tPrediction: 2.0\n",
      "Expect: 1\t\tPrediction: 1.0\n",
      "Expect: 1\t\tPrediction: 0.0\n",
      "Expect: 2\t\tPrediction: 2.0\n",
      "Expect: 3\t\tPrediction: 3.0\n",
      "Expect: 3\t\tPrediction: 3.0\n",
      "Expect: 0\t\tPrediction: 0.0\n",
      "Expect: 3\t\tPrediction: 3.0\n",
      "Expect: 0\t\tPrediction: 0.0\n",
      "Expect: 3\t\tPrediction: 3.0\n",
      "Expect: 1\t\tPrediction: 1.0\n",
      "Expect: 1\t\tPrediction: 1.0\n",
      "Expect: 3\t\tPrediction: 3.0\n",
      "Expect: 2\t\tPrediction: 2.0\n",
      "Expect: 1\t\tPrediction: 1.0\n",
      "Expect: 2\t\tPrediction: 2.0\n",
      "Expect: 2\t\tPrediction: 2.0\n",
      "Expect: 2\t\tPrediction: 2.0\n",
      "Expect: 3\t\tPrediction: 3.0\n",
      "Expect: 2\t\tPrediction: 2.0\n",
      "Expect: 1\t\tPrediction: 1.0\n",
      "Expect: 0\t\tPrediction: 3.0\n",
      "Expect: 2\t\tPrediction: 2.0\n",
      "Expect: 3\t\tPrediction: 3.0\n",
      "Expect: 0\t\tPrediction: 0.0\n",
      "Expect: 2\t\tPrediction: 2.0\n",
      "Expect: 2\t\tPrediction: 2.0\n",
      "Expect: 0\t\tPrediction: 0.0\n",
      "Expect: 1\t\tPrediction: 0.0\n",
      "Expect: 1\t\tPrediction: 2.0\n",
      "Expect: 1\t\tPrediction: 1.0\n",
      "Expect: 1\t\tPrediction: 1.0\n",
      "Expect: 0\t\tPrediction: 0.0\n",
      "Expect: 0\t\tPrediction: 1.0\n",
      "Expect: 1\t\tPrediction: 1.0\n",
      "Expect: 0\t\tPrediction: 0.0\n",
      "Expect: 1\t\tPrediction: 0.0\n",
      "Expect: 3\t\tPrediction: 3.0\n",
      "Expect: 3\t\tPrediction: 3.0\n",
      "Expect: 3\t\tPrediction: 3.0\n",
      "Expect: 1\t\tPrediction: 1.0\n",
      "Expect: 1\t\tPrediction: 0.0\n",
      "Expect: 3\t\tPrediction: 3.0\n",
      "Expect: 1\t\tPrediction: 1.0\n",
      "Expect: 2\t\tPrediction: 1.0\n",
      "Expect: 3\t\tPrediction: 3.0\n",
      "Expect: 2\t\tPrediction: 2.0\n",
      "Expect: 3\t\tPrediction: 3.0\n",
      "Expect: 3\t\tPrediction: 0.0\n",
      "Expect: 1\t\tPrediction: 1.0\n",
      "Expect: 1\t\tPrediction: 2.0\n",
      "Expect: 3\t\tPrediction: 3.0\n",
      "Expect: 1\t\tPrediction: 1.0\n",
      "Expect: 1\t\tPrediction: 1.0\n",
      "Expect: 3\t\tPrediction: 3.0\n",
      "Expect: 3\t\tPrediction: 3.0\n",
      "Expect: 0\t\tPrediction: 0.0\n",
      "Expect: 3\t\tPrediction: 3.0\n",
      "Expect: 1\t\tPrediction: 1.0\n",
      "Expect: 3\t\tPrediction: 3.0\n",
      "Expect: 0\t\tPrediction: 0.0\n",
      "Expect: 2\t\tPrediction: 2.0\n",
      "Expect: 3\t\tPrediction: 3.0\n",
      "Expect: 0\t\tPrediction: 0.0\n",
      "Expect: 3\t\tPrediction: 3.0\n",
      "Expect: 3\t\tPrediction: 3.0\n",
      "Expect: 1\t\tPrediction: 0.0\n",
      "Expect: 1\t\tPrediction: 1.0\n",
      "Expect: 3\t\tPrediction: 0.0\n",
      "Expect: 3\t\tPrediction: 3.0\n",
      "Expect: 2\t\tPrediction: 2.0\n",
      "Expect: 1\t\tPrediction: 1.0\n",
      "Expect: 3\t\tPrediction: 3.0\n",
      "Expect: 0\t\tPrediction: 0.0\n",
      "Expect: 3\t\tPrediction: 3.0\n",
      "Expect: 3\t\tPrediction: 0.0\n",
      "Expect: 1\t\tPrediction: 1.0\n",
      "Expect: 0\t\tPrediction: 0.0\n",
      "Expect: 3\t\tPrediction: 3.0\n",
      "Expect: 2\t\tPrediction: 2.0\n",
      "Expect: 2\t\tPrediction: 2.0\n",
      "Expect: 0\t\tPrediction: 0.0\n",
      "Expect: 2\t\tPrediction: 2.0\n",
      "Expect: 0\t\tPrediction: 3.0\n",
      "Accuracy: 81.0%\n"
     ]
    },
    {
     "data": {
      "image/png": "[encoded data removed]",
      "text/plain": [
       "<Figure size 432x288 with 2 Axes>"
      ]
     },
     "metadata": {
      "needs_background": "light"
     },
     "output_type": "display_data"
    }
   ],
   "source": [
    "print(\"Running test on 3D data...\")\n",
    "test(test_x3d, train_x3d, test_y3d, train_y3d)"
   ]
  }
 ],
 "metadata": {
  "kernelspec": {
   "display_name": "Python 3 (ipykernel)",
   "language": "python",
   "name": "python3"
  },
  "language_info": {
   "codemirror_mode": {
    "name": "ipython",
    "version": 3
   },
   "file_extension": ".py",
   "mimetype": "text/x-python",
   "name": "python",
   "nbconvert_exporter": "python",
   "pygments_lexer": "ipython3",
   "version": "3.8.10"
  }
 },
 "nbformat": 4,
 "nbformat_minor": 4
}